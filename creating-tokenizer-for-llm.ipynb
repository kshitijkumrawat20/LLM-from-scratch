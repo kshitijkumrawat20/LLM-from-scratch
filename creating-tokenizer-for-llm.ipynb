{
 "cells": [
  {
   "cell_type": "code",
   "execution_count": 1,
   "id": "9f1c7b3b",
   "metadata": {
    "_cell_guid": "b1076dfc-b9ad-4769-8c92-a6c4dae69d19",
    "_uuid": "8f2839f25d086af736a60e9eeb907d3b93b6e0e5",
    "execution": {
     "iopub.execute_input": "2025-10-16T12:07:34.595971Z",
     "iopub.status.busy": "2025-10-16T12:07:34.595619Z",
     "iopub.status.idle": "2025-10-16T12:07:36.555594Z",
     "shell.execute_reply": "2025-10-16T12:07:36.554429Z"
    },
    "papermill": {
     "duration": 1.966828,
     "end_time": "2025-10-16T12:07:36.557578",
     "exception": false,
     "start_time": "2025-10-16T12:07:34.590750",
     "status": "completed"
    },
    "tags": []
   },
   "outputs": [
    {
     "name": "stdout",
     "output_type": "stream",
     "text": [
      "/kaggle/input/verdict-text/the-verdict.txt\n"
     ]
    }
   ],
   "source": [
    "# This Python 3 environment comes with many helpful analytics libraries installed\n",
    "# It is defined by the kaggle/python Docker image: https://github.com/kaggle/docker-python\n",
    "# For example, here's several helpful packages to load\n",
    "\n",
    "import numpy as np # linear algebra\n",
    "import pandas as pd # data processing, CSV file I/O (e.g. pd.read_csv)\n",
    "\n",
    "# Input data files are available in the read-only \"../input/\" directory\n",
    "# For example, running this (by clicking run or pressing Shift+Enter) will list all files under the input directory\n",
    "\n",
    "import os\n",
    "for dirname, _, filenames in os.walk('/kaggle/input'):\n",
    "    for filename in filenames:\n",
    "        print(os.path.join(dirname, filename))\n",
    "\n",
    "# You can write up to 20GB to the current directory (/kaggle/working/) that gets preserved as output when you create a version using \"Save & Run All\" \n",
    "# You can also write temporary files to /kaggle/temp/, but they won't be saved outside of the current session"
   ]
  },
  {
   "cell_type": "code",
   "execution_count": 2,
   "id": "0b3993f2",
   "metadata": {
    "execution": {
     "iopub.execute_input": "2025-10-16T12:07:36.565574Z",
     "iopub.status.busy": "2025-10-16T12:07:36.564614Z",
     "iopub.status.idle": "2025-10-16T12:07:36.572312Z",
     "shell.execute_reply": "2025-10-16T12:07:36.571486Z"
    },
    "papermill": {
     "duration": 0.012801,
     "end_time": "2025-10-16T12:07:36.573698",
     "exception": false,
     "start_time": "2025-10-16T12:07:36.560897",
     "status": "completed"
    },
    "tags": []
   },
   "outputs": [
    {
     "data": {
      "text/plain": [
       "'/kaggle/working'"
      ]
     },
     "execution_count": 2,
     "metadata": {},
     "output_type": "execute_result"
    }
   ],
   "source": [
    "%pwd"
   ]
  },
  {
   "cell_type": "code",
   "execution_count": 3,
   "id": "f94c4e3e",
   "metadata": {
    "execution": {
     "iopub.execute_input": "2025-10-16T12:07:36.581387Z",
     "iopub.status.busy": "2025-10-16T12:07:36.581039Z",
     "iopub.status.idle": "2025-10-16T12:07:36.589719Z",
     "shell.execute_reply": "2025-10-16T12:07:36.588564Z"
    },
    "papermill": {
     "duration": 0.014309,
     "end_time": "2025-10-16T12:07:36.591311",
     "exception": false,
     "start_time": "2025-10-16T12:07:36.577002",
     "status": "completed"
    },
    "tags": []
   },
   "outputs": [
    {
     "name": "stdout",
     "output_type": "stream",
     "text": [
      "Total number of characters: 20479\n",
      "I HAD always thought Jack Gisburn rather a cheap genius--though a good fellow enough--so it was no \n"
     ]
    }
   ],
   "source": [
    "with open(\"/kaggle/input/verdict-text/the-verdict.txt\", encoding =\"utf-8\") as f:\n",
    "    raw_text = f.read()\n",
    "print(\"Total number of characters:\", len(raw_text))\n",
    "print(raw_text[:99])"
   ]
  },
  {
   "cell_type": "markdown",
   "id": "b93ec030",
   "metadata": {
    "papermill": {
     "duration": 0.00276,
     "end_time": "2025-10-16T12:07:36.597363",
     "exception": false,
     "start_time": "2025-10-16T12:07:36.594603",
     "status": "completed"
    },
    "tags": []
   },
   "source": [
    "## Goal: Tokenize all characters"
   ]
  },
  {
   "cell_type": "code",
   "execution_count": 4,
   "id": "85c079b1",
   "metadata": {
    "execution": {
     "iopub.execute_input": "2025-10-16T12:07:36.604320Z",
     "iopub.status.busy": "2025-10-16T12:07:36.604039Z",
     "iopub.status.idle": "2025-10-16T12:07:36.610207Z",
     "shell.execute_reply": "2025-10-16T12:07:36.609312Z"
    },
    "papermill": {
     "duration": 0.011519,
     "end_time": "2025-10-16T12:07:36.611747",
     "exception": false,
     "start_time": "2025-10-16T12:07:36.600228",
     "status": "completed"
    },
    "tags": []
   },
   "outputs": [
    {
     "data": {
      "text/plain": [
       "['This', 'is', 'test', '']"
      ]
     },
     "execution_count": 4,
     "metadata": {},
     "output_type": "execute_result"
    }
   ],
   "source": [
    "import re\n",
    "text  = \"This is test.\"\n",
    "result = re.split(r'[-,.:;?_!\"()\\[\\]\\s]', text)\n",
    "result "
   ]
  },
  {
   "cell_type": "markdown",
   "id": "b1e8d9dc",
   "metadata": {
    "papermill": {
     "duration": 0.002938,
     "end_time": "2025-10-16T12:07:36.618018",
     "exception": false,
     "start_time": "2025-10-16T12:07:36.615080",
     "status": "completed"
    },
    "tags": []
   },
   "source": [
    "### Should remove whitespaces ? \n",
    "1. yes if we want to reduce the memory and computing requirements\n",
    "2. If the text is senstive like python code which have major role of whitespaces in syntax, better to avoid it"
   ]
  },
  {
   "cell_type": "code",
   "execution_count": 5,
   "id": "bfe914d5",
   "metadata": {
    "execution": {
     "iopub.execute_input": "2025-10-16T12:07:36.625514Z",
     "iopub.status.busy": "2025-10-16T12:07:36.625052Z",
     "iopub.status.idle": "2025-10-16T12:07:36.631475Z",
     "shell.execute_reply": "2025-10-16T12:07:36.630503Z"
    },
    "papermill": {
     "duration": 0.012131,
     "end_time": "2025-10-16T12:07:36.633195",
     "exception": false,
     "start_time": "2025-10-16T12:07:36.621064",
     "status": "completed"
    },
    "tags": []
   },
   "outputs": [
    {
     "data": {
      "text/plain": [
       "['This', 'is', 'test']"
      ]
     },
     "execution_count": 5,
     "metadata": {},
     "output_type": "execute_result"
    }
   ],
   "source": [
    "## to remove the whitespace \n",
    "result = [item for item in result if item.strip()]\n",
    "result"
   ]
  },
  {
   "cell_type": "code",
   "execution_count": 6,
   "id": "9fca15f9",
   "metadata": {
    "execution": {
     "iopub.execute_input": "2025-10-16T12:07:36.641740Z",
     "iopub.status.busy": "2025-10-16T12:07:36.640805Z",
     "iopub.status.idle": "2025-10-16T12:07:36.648789Z",
     "shell.execute_reply": "2025-10-16T12:07:36.647611Z"
    },
    "papermill": {
     "duration": 0.013659,
     "end_time": "2025-10-16T12:07:36.650273",
     "exception": false,
     "start_time": "2025-10-16T12:07:36.636614",
     "status": "completed"
    },
    "tags": []
   },
   "outputs": [
    {
     "name": "stdout",
     "output_type": "stream",
     "text": [
      "['I', 'HAD', 'always', 'thought', 'Jack', 'Gisburn', 'rather', 'a', 'cheap', 'genius', 'though', 'a', 'good', 'fellow', 'enough', 'so', 'it', 'was', 'no', 'great', 'surprise', 'to', 'me', 'to', 'hear', 'that', 'in', 'the', 'height', 'of']\n"
     ]
    }
   ],
   "source": [
    "## processing throught the whole text \n",
    "preprocessed = re.split(r'[-,.:;?_!\"()\\[\\]\\s]',raw_text)\n",
    "preprocessed = [item.strip() for item in preprocessed if item.strip()]\n",
    "print(preprocessed[:30])\n"
   ]
  },
  {
   "cell_type": "code",
   "execution_count": 7,
   "id": "e7c788eb",
   "metadata": {
    "execution": {
     "iopub.execute_input": "2025-10-16T12:07:36.658208Z",
     "iopub.status.busy": "2025-10-16T12:07:36.657846Z",
     "iopub.status.idle": "2025-10-16T12:07:36.664669Z",
     "shell.execute_reply": "2025-10-16T12:07:36.663726Z"
    },
    "papermill": {
     "duration": 0.012829,
     "end_time": "2025-10-16T12:07:36.666447",
     "exception": false,
     "start_time": "2025-10-16T12:07:36.653618",
     "status": "completed"
    },
    "tags": []
   },
   "outputs": [
    {
     "data": {
      "text/plain": [
       "1152"
      ]
     },
     "execution_count": 7,
     "metadata": {},
     "output_type": "execute_result"
    }
   ],
   "source": [
    "## creating Token IDs\n",
    "words = sorted(set(preprocessed)) ## sort the words alphabetically \n",
    "vocab_size = len(words)\n",
    "vocab_size\n"
   ]
  },
  {
   "cell_type": "markdown",
   "id": "23a5588e",
   "metadata": {
    "papermill": {
     "duration": 0.003102,
     "end_time": "2025-10-16T12:07:36.673293",
     "exception": false,
     "start_time": "2025-10-16T12:07:36.670191",
     "status": "completed"
    },
    "tags": []
   },
   "source": [
    "## why do we need the vocabulary ? \n",
    "when we convert the ouptut of an LLM into text we need token ids  "
   ]
  },
  {
   "cell_type": "code",
   "execution_count": 8,
   "id": "093569a5",
   "metadata": {
    "execution": {
     "iopub.execute_input": "2025-10-16T12:07:36.681122Z",
     "iopub.status.busy": "2025-10-16T12:07:36.680774Z",
     "iopub.status.idle": "2025-10-16T12:07:36.687369Z",
     "shell.execute_reply": "2025-10-16T12:07:36.686460Z"
    },
    "papermill": {
     "duration": 0.012494,
     "end_time": "2025-10-16T12:07:36.689049",
     "exception": false,
     "start_time": "2025-10-16T12:07:36.676555",
     "status": "completed"
    },
    "tags": []
   },
   "outputs": [
    {
     "name": "stdout",
     "output_type": "stream",
     "text": [
      "': 0\n",
      "'Are: 1\n",
      "'It's: 2\n",
      "'coming': 3\n",
      "'done': 4\n",
      "'subject: 5\n",
      "'technique': 6\n",
      "'way: 7\n",
      "A: 8\n",
      "Ah: 9\n"
     ]
    }
   ],
   "source": [
    "import itertools \n",
    "\n",
    "## creating a vocabulary dictionary \n",
    "vocab = {token: integer for integer, token in enumerate(words)}\n",
    "for key, value in itertools.islice(vocab.items(),10):\n",
    "      print(f'{key}: {value}')"
   ]
  },
  {
   "cell_type": "code",
   "execution_count": null,
   "id": "566af9ea",
   "metadata": {
    "papermill": {
     "duration": 0.003053,
     "end_time": "2025-10-16T12:07:36.695583",
     "exception": false,
     "start_time": "2025-10-16T12:07:36.692530",
     "status": "completed"
    },
    "tags": []
   },
   "outputs": [],
   "source": []
  },
  {
   "cell_type": "code",
   "execution_count": null,
   "id": "01170fb4",
   "metadata": {
    "papermill": {
     "duration": 0.002957,
     "end_time": "2025-10-16T12:07:36.701741",
     "exception": false,
     "start_time": "2025-10-16T12:07:36.698784",
     "status": "completed"
    },
    "tags": []
   },
   "outputs": [],
   "source": []
  },
  {
   "cell_type": "code",
   "execution_count": null,
   "id": "ba7ef067",
   "metadata": {
    "papermill": {
     "duration": 0.002984,
     "end_time": "2025-10-16T12:07:36.707973",
     "exception": false,
     "start_time": "2025-10-16T12:07:36.704989",
     "status": "completed"
    },
    "tags": []
   },
   "outputs": [],
   "source": []
  },
  {
   "cell_type": "code",
   "execution_count": null,
   "id": "c88bb2b2",
   "metadata": {
    "papermill": {
     "duration": 0.002937,
     "end_time": "2025-10-16T12:07:36.714077",
     "exception": false,
     "start_time": "2025-10-16T12:07:36.711140",
     "status": "completed"
    },
    "tags": []
   },
   "outputs": [],
   "source": []
  }
 ],
 "metadata": {
  "kaggle": {
   "accelerator": "none",
   "dataSources": [
    {
     "datasetId": 8505945,
     "sourceId": 13403253,
     "sourceType": "datasetVersion"
    }
   ],
   "dockerImageVersionId": 31153,
   "isGpuEnabled": false,
   "isInternetEnabled": true,
   "language": "python",
   "sourceType": "notebook"
  },
  "kernelspec": {
   "display_name": "Python 3",
   "language": "python",
   "name": "python3"
  },
  "language_info": {
   "codemirror_mode": {
    "name": "ipython",
    "version": 3
   },
   "file_extension": ".py",
   "mimetype": "text/x-python",
   "name": "python",
   "nbconvert_exporter": "python",
   "pygments_lexer": "ipython3",
   "version": "3.11.13"
  },
  "papermill": {
   "default_parameters": {},
   "duration": 7.496417,
   "end_time": "2025-10-16T12:07:37.237114",
   "environment_variables": {},
   "exception": null,
   "input_path": "__notebook__.ipynb",
   "output_path": "__notebook__.ipynb",
   "parameters": {},
   "start_time": "2025-10-16T12:07:29.740697",
   "version": "2.6.0"
  }
 },
 "nbformat": 4,
 "nbformat_minor": 5
}
